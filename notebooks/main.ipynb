{
 "cells": [
  {
   "cell_type": "markdown",
   "id": "e28018c3",
   "metadata": {},
   "source": [
    "# RFM-анализ клиентов интернет-магазина\n",
    "\n",
    "**Цель проекта**\n",
    "- Рассчитать RFM-метрики (Recency, Frequency, Monetary)  \n",
    "- Сегментировать клиентов по ценности  \n",
    "- Построить визуализации для анализа вклада сегментов в выручку  \n",
    "\n",
    "**Этапы проекта**\n",
    "1. Загрузка агрегатов из SQL (CSV)  \n",
    "2. Подготовка палитры цветов  \n",
    "3. Bar chart: выручка по сегментам  \n",
    "4. Bar chart: количество клиентов по сегментам  \n",
    "5. Pie chart: доля выручки по сегментам  "
   ]
  },
  {
   "cell_type": "markdown",
   "id": "24430a72",
   "metadata": {},
   "source": [
    "## Импортируем библиотеки"
   ]
  },
  {
   "cell_type": "code",
   "execution_count": null,
   "id": "7ba901eb",
   "metadata": {},
   "outputs": [],
   "source": [
    "import pandas as pd\n",
    "import matplotlib.pyplot as plt"
   ]
  },
  {
   "cell_type": "markdown",
   "id": "e6a0cca7",
   "metadata": {},
   "source": [
    "## Указываем путь к файлу"
   ]
  },
  {
   "cell_type": "code",
   "execution_count": null,
   "id": "bb04e5a5",
   "metadata": {},
   "outputs": [],
   "source": [
    "input_csv = \"C:/VS_CODE_PROJECTS/PET_PROJECTS/SQL PROJECT/output_data/rfm_segments.csv\"\n",
    "output_dir = \"C:/VS_CODE_PROJECTS/PET_PROJECTS/SQL PROJECT/output_data\""
   ]
  },
  {
   "cell_type": "markdown",
   "id": "afb8c95c",
   "metadata": {},
   "source": [
    "## Загружаем данные"
   ]
  },
  {
   "cell_type": "code",
   "execution_count": 6,
   "id": "3622f4bc",
   "metadata": {},
   "outputs": [],
   "source": [
    "df = pd.read_csv(input_csv)"
   ]
  },
  {
   "cell_type": "markdown",
   "id": "0dce09d8",
   "metadata": {},
   "source": [
    "## Задаем палитру для графиков"
   ]
  },
  {
   "cell_type": "code",
   "execution_count": 52,
   "id": "87357003",
   "metadata": {},
   "outputs": [],
   "source": [
    "colors={\n",
    "    'Champions' : '#4CAF50',\n",
    "    'Loyal' : '#2196F3',\n",
    "    'Others' : '#FF9800',\n",
    "    'Lost' : '#9E9E9E'\n",
    "}"
   ]
  },
  {
   "cell_type": "markdown",
   "id": "bd226a6f",
   "metadata": {},
   "source": [
    "## Bar chart - выручка"
   ]
  },
  {
   "cell_type": "code",
   "execution_count": 61,
   "id": "e4dcdd21",
   "metadata": {},
   "outputs": [],
   "source": [
    "df_sorted_1 = df.sort_values('revenue', ascending=False)\n",
    "plt.figure(figsize=(8,5))\n",
    "plt.bar(df_sorted_1['segment'], df_sorted_1['revenue'], color=[colors[i] for i in df_sorted_1['segment']])\n",
    "plt.title('Выручка по сегментам клиентов')\n",
    "plt.ylabel('Выручка')\n",
    "plt.xlabel('Сегмент')\n",
    "plt.tight_layout()\n",
    "plt.savefig(f\"{output_dir}/rfm_revenue_bar.png\")\n",
    "plt.close()"
   ]
  },
  {
   "cell_type": "markdown",
   "id": "cebc2f62",
   "metadata": {},
   "source": [
    "## Bar chart - количество клиентов"
   ]
  },
  {
   "cell_type": "code",
   "execution_count": 62,
   "id": "2bf2ec0e",
   "metadata": {},
   "outputs": [],
   "source": [
    "df_sorted_2 = df.sort_values('customers', ascending=False)\n",
    "plt.figure(figsize=(8,5))\n",
    "plt.bar(df_sorted_2['segment'], df_sorted_2['customers'], color=[colors[i] for i in df_sorted_2['segment']])\n",
    "plt.title('Количество клиентов по сегментам')\n",
    "plt.ylabel('Количество клиентов')\n",
    "plt.xlabel('Сегмент')\n",
    "plt.tight_layout()\n",
    "plt.savefig(f\"{output_dir}/rfm_customers_bar.png\")\n",
    "plt.close()"
   ]
  },
  {
   "cell_type": "markdown",
   "id": "9dc0e5ab",
   "metadata": {},
   "source": [
    "## Pie chart — доля выручки по сегментам"
   ]
  },
  {
   "cell_type": "code",
   "execution_count": 66,
   "id": "a7255e88",
   "metadata": {},
   "outputs": [],
   "source": [
    "explode = [0.05 if i =='Champions' else 0 for i in df['segment']]\n",
    "plt.figure(figsize=(6,6))\n",
    "plt.pie(\n",
    "    df['revenue'], \n",
    "    labels=df['segment'], \n",
    "    autopct='%1.1f%%', \n",
    "    startangle=140, \n",
    "    colors=[colors[i] for i in df['segment']],\n",
    "    explode=explode\n",
    ")\n",
    "plt.title('Доля выручки по сегментам')\n",
    "plt.ylabel('Выручка')\n",
    "plt.xlabel('Сегмент')\n",
    "plt.tight_layout()\n",
    "plt.savefig(f\"{output_dir}/rfm_revenue_pie.png\")\n",
    "plt.close()"
   ]
  },
  {
   "cell_type": "markdown",
   "id": "c182da2d",
   "metadata": {},
   "source": [
    "### Графики сохранены в папку 'output_data/'"
   ]
  },
  {
   "cell_type": "markdown",
   "id": "5f6c1d1b",
   "metadata": {},
   "source": [
    "# Выводы\n",
    "\n",
    "- Champions (около 10% клиентов) приносят ~40% всей выручки.  \n",
    "- Loyal-клиенты обеспечивают стабильный поток (~27%).  \n",
    "- Others формируют большую массу клиентов, но меньший вклад в доход (~29%).  \n",
    "- Lost — практически незначимый сегмент (<1%).  \n",
    "\n",
    "**Рекомендация:**  \n",
    "Сосредоточить усилия на удержании Champions и развитии Loyal, так как именно они формируют основную ценность для бизнеса."
   ]
  },
  {
   "cell_type": "markdown",
   "id": "199e0741",
   "metadata": {},
   "source": []
  }
 ],
 "metadata": {
  "kernelspec": {
   "display_name": "base",
   "language": "python",
   "name": "python3"
  },
  "language_info": {
   "codemirror_mode": {
    "name": "ipython",
    "version": 3
   },
   "file_extension": ".py",
   "mimetype": "text/x-python",
   "name": "python",
   "nbconvert_exporter": "python",
   "pygments_lexer": "ipython3",
   "version": "3.13.5"
  }
 },
 "nbformat": 4,
 "nbformat_minor": 5
}
